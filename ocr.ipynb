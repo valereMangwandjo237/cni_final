{
 "cells": [
  {
   "cell_type": "code",
   "execution_count": 1,
   "id": "28bbda07",
   "metadata": {},
   "outputs": [],
   "source": [
    "import easyocr\n",
    "import cv2\n",
    "import re\n",
    "import matplotlib.pyplot as plt\n",
    "import numpy as np"
   ]
  },
  {
   "cell_type": "code",
   "execution_count": 3,
   "id": "720ba942",
   "metadata": {},
   "outputs": [],
   "source": [
    "from tensorflow.keras.models import load_model"
   ]
  },
  {
   "cell_type": "code",
   "execution_count": 5,
   "id": "bf24c989",
   "metadata": {},
   "outputs": [
    {
     "name": "stderr",
     "output_type": "stream",
     "text": [
      "Neither CUDA nor MPS are available - defaulting to CPU. Note: This module is much faster with a GPU.\n"
     ]
    }
   ],
   "source": [
    "# Créer un lecteur pour la langue française (ajoutez 'en' pour anglais, etc.)\n",
    "reader = easyocr.Reader(['fr','en'], gpu=True)"
   ]
  },
  {
   "cell_type": "code",
   "execution_count": 10,
   "id": "6e468bc8",
   "metadata": {},
   "outputs": [],
   "source": [
    "\n",
    "# Chemin vers l'image à traiter\n",
    "\n",
    "image = cv2.imread('C:/Users/MADARA/Downloads/images_dgi/new_cni/recto/00fa8430-760b-4d14-9c47-36a644a7e8c3.jpeg')\n",
    "\n",
    "# Zoom x2\n",
    "#zoomed = cv2.resize(image, None, fx=2, fy=2, interpolation=cv2.INTER_CUBIC)\n",
    "\n",
    "# Améliorer contraste\n",
    "#contrast = cv2.convertScaleAbs(image, alpha=1.5, beta=0)\n",
    "\n",
    "#results = reader.readtext(contrast)\n",
    "results = reader.readtext(image)\n",
    "# Concaténer tous les textes détectés en un seul texte\n",
    "\n",
    "list_extra = []\n",
    "for(bbox, texte, prob) in results:\n",
    "    list_extra.append(texte)\n"
   ]
  },
  {
   "cell_type": "code",
   "execution_count": 8,
   "id": "12c105f4",
   "metadata": {},
   "outputs": [],
   "source": [
    "from rapidfuzz import fuzz, process\n",
    "\n",
    "def find_name_in_cni(user_input, extracted_texts, threshold=60):\n",
    "    # Normalisation : minuscules et suppression des espaces superflus\n",
    "    cleaned_input = \" \".join(user_input.lower().split())\n",
    "    cleaned_texts = [\" \".join(str(t).lower().split()) for t in extracted_texts]\n",
    "    \n",
    "    # Trouve le meilleur match (avec token_set_ratio pour ignorer l'ordre des mots)\n",
    "    best_match, score, index = process.extractOne(\n",
    "        cleaned_input,\n",
    "        cleaned_texts,\n",
    "        scorer=fuzz.token_set_ratio,  #Utilisez fuzz.ratio pour une comparaison stricte\n",
    "        score_cutoff=threshold\n",
    "    )\n",
    "    \n",
    "    if score >= threshold:\n",
    "        return extracted_texts[index], score  # Retourne le texte original (non normalisé)\n",
    "    else:\n",
    "        return None, 0"
   ]
  },
  {
   "cell_type": "code",
   "execution_count": 11,
   "id": "2407053c",
   "metadata": {},
   "outputs": [
    {
     "name": "stdout",
     "output_type": "stream",
     "text": [
      "['RÉPUBlIQUE DU CAMEROUM', 'RepubucofCaMEROOn', 'NOMISURNAME', 'SoM', 'ERENOMSIGIVEN NAMES', 'BENOIT', 'DATE EEaaissangeidateoi Ciath', '20.07.1958', 'Lifu BE #aissanceif: aceOf Biath', 'LOGPAGAL', 'SFXEISEX', 'TailleihciShT', 'M', '1,66', 'PROFESSIONIOCCUPATION', 'ADMIN DE SOCIETE', 'SIGNATURE']\n"
     ]
    }
   ],
   "source": [
    "print(list_extra)"
   ]
  },
  {
   "cell_type": "code",
   "execution_count": 13,
   "id": "cd54e906",
   "metadata": {},
   "outputs": [
    {
     "data": {
      "text/plain": [
       "('BENOIT', 100.0)"
      ]
     },
     "execution_count": 13,
     "metadata": {},
     "output_type": "execute_result"
    }
   ],
   "source": [
    "nom = \"SOM\"\n",
    "#KOUAM BOUJEKA\n",
    "prenom = \"BENOIT\"\n",
    "\n",
    "find_name_in_cni(prenom, list_extra)"
   ]
  },
  {
   "cell_type": "code",
   "execution_count": null,
   "id": "3e58e5b9",
   "metadata": {},
   "outputs": [],
   "source": []
  },
  {
   "cell_type": "code",
   "execution_count": null,
   "id": "53d14c2d",
   "metadata": {},
   "outputs": [],
   "source": []
  },
  {
   "cell_type": "code",
   "execution_count": null,
   "id": "b6e2bbe1",
   "metadata": {},
   "outputs": [
    {
     "data": {
      "text/plain": [
       "['REPUBLIC OF CAMEROON',\n",
       " 'REPUBLIQUE DU CAMEROUN',\n",
       " 'Peace-Work-Fatherland',\n",
       " 'Paix-Travail-Patrie',\n",
       " 'PRESIDENCY OF THE REPUBLIC',\n",
       " 'PRESIDENCE DE LA REPUBLIQUE',\n",
       " 'GENERAL DELEGATION FOR',\n",
       " 'DELEGATION GENERALE A LA',\n",
       " 'NATIONAL SECURITY',\n",
       " 'SURETE NATIONALE',\n",
       " 'Temporary Identity document',\n",
       " \"Titre d'identité provisoire\",\n",
       " 'lIdentifiant demande',\n",
       " 'Request identifiant',\n",
       " 'CEI',\n",
       " '105715J7487EMFNJA',\n",
       " '71/IC',\n",
       " 'CE11',\n",
       " 'CIAT CENTRAL',\n",
       " 'Ruméro Kit',\n",
       " 'Kit id',\n",
       " 'KITO51',\n",
       " 'CNI',\n",
       " \"Carte Nationale d'Identité\",\n",
       " 'de titre',\n",
       " 'ype of',\n",
       " \"Carte Nationale d'Identité\",\n",
       " 'satégorie',\n",
       " 'Category',\n",
       " 'KOUAM BOUJEKA epse TCHENGANG',\n",
       " 'Jom',\n",
       " 'lame',\n",
       " 'TCHIENGUE',\n",
       " \"'rénoms\",\n",
       " 'ELODIE GRAZIELLA',\n",
       " 'Surnames',\n",
       " 'Père',\n",
       " 'KOUAM TEKAM JEAN PAUL',\n",
       " 'Nom du',\n",
       " \"ather's Name\",\n",
       " 'Jom de la Mère',\n",
       " 'MBOUFANG ANTOINETTE',\n",
       " '',\n",
       " '',\n",
       " \"Iother's Name\",\n",
       " 'NGAOUNDERE',\n",
       " \"'é(e) le\",\n",
       " 'DU',\n",
       " 'Jorn on',\n",
       " 'F€ of',\n",
       " '178 cm',\n",
       " '4le Profession',\n",
       " 'GESTIONNAIRE',\n",
       " 'faille',\n",
       " 'or',\n",
       " '4 +f',\n",
       " 'Occupation',\n",
       " '1',\n",
       " '10.05.2023',\n",
       " 'au',\n",
       " '10.08.2023',\n",
       " 'délivrance',\n",
       " '10.05.2023',\n",
       " 'Valable du',\n",
       " 'to',\n",
       " 'Jate de',\n",
       " 'Valid from',\n",
       " \"'Jate of issue\",\n",
       " 'Signature du Demandeur',\n",
       " \"lom et signature de l'identificateur\",\n",
       " 'Requester Signature',\n",
       " \"'lame and identificator's signature\",\n",
       " 'Ao',\n",
       " 'Zn',\n",
       " 'bocrcve UHomkoo',\n",
       " 'Officier Police de 20 Grade',\n",
       " 'Chavalier du Mér ',\n",
       " 'amprhinbir',\n",
       " 'ype',\n",
       " 'application',\n",
       " '',\n",
       " '8228Pue} %8784',\n",
       " '(AtA:',\n",
       " 'Repub)',\n",
       " 'MIr',\n",
       " 'Cante_',\n",
       " '!',\n",
       " '7',\n",
       " 'IDENCE',\n",
       " 'residency']"
      ]
     },
     "execution_count": 21,
     "metadata": {},
     "output_type": "execute_result"
    }
   ],
   "source": [
    "list_extra"
   ]
  }
 ],
 "metadata": {
  "kernelspec": {
   "display_name": "base_env",
   "language": "python",
   "name": "python3"
  },
  "language_info": {
   "codemirror_mode": {
    "name": "ipython",
    "version": 3
   },
   "file_extension": ".py",
   "mimetype": "text/x-python",
   "name": "python",
   "nbconvert_exporter": "python",
   "pygments_lexer": "ipython3",
   "version": "3.10.0"
  }
 },
 "nbformat": 4,
 "nbformat_minor": 5
}
